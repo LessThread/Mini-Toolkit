{
 "cells": [
  {
   "cell_type": "code",
   "execution_count": 14,
   "metadata": {},
   "outputs": [],
   "source": [
    "import time\n",
    "import random\n",
    "import importlib\n",
    "\n",
    "from selenium import webdriver\n",
    "from selenium.webdriver.common.by import By\n",
    "from selenium.common.exceptions import StaleElementReferenceException, WebDriverException\n",
    "from selenium import webdriver\n",
    "from selenium.webdriver.chrome.service import Service\n",
    "from selenium.webdriver.common.desired_capabilities import DesiredCapabilities\n",
    "\n",
    "from printError import printError\n",
    "\n",
    "options = webdriver.ChromeOptions()\n",
    "# options.add_argument('--headless')\n",
    "options.add_argument('--no-sandbox')\n",
    "options.add_argument('--disable-dev-shm-usage')\n",
    "options.add_argument('--disable-gpu')\n",
    "# options.add_argument('--remote-debugging-port=9222')\n",
    "options.add_argument('--single-process')\n",
    "options.binary_location = \"C:\\\\Users\\\\tsl141\\\\Downloads\\\\chrome-win64\\\\chrome.exe\"\n",
    "\n",
    "capabilities = DesiredCapabilities.CHROME.copy()\n",
    "capabilities['acceptInsecureCerts'] = True\n",
    "\n",
    "driver = webdriver.Chrome(options=options, desired_capabilities=capabilities)\n",
    "# driver = webdriver.Chrome(options=options)\n",
    "driver.get(\"https://controll-panel-main-test-tacos-kernel-demo.tsl.x/login\")\n",
    "\n",
    "ErrorMessage = '未捕获'\n"
   ]
  },
  {
   "cell_type": "code",
   "execution_count": 65,
   "metadata": {},
   "outputs": [
    {
     "name": "stdout",
     "output_type": "stream",
     "text": [
      "登录成功\n"
     ]
    }
   ],
   "source": [
    "import login\n",
    "importlib.reload(login)\n",
    "\n",
    "from login import testLogin\n",
    "try:\n",
    "    # 打开登录页面，填充账号密码\n",
    "    ErrorMessage = '登录'\n",
    "    testLogin(driver)\n",
    "\n",
    "    # 留个人机验证的时间\n",
    "    time.sleep(2)\n",
    "    print(\"登录成功\")\n",
    "\n",
    "except Exception as e:\n",
    "    printError(ErrorMessage,e)"
   ]
  },
  {
   "cell_type": "code",
   "execution_count": 105,
   "metadata": {},
   "outputs": [
    {
     "name": "stdout",
     "output_type": "stream",
     "text": [
      "添加用户成功\n"
     ]
    }
   ],
   "source": [
    "import addUser\n",
    "importlib.reload(addUser)\n",
    "\n",
    "from addUser import testAddUser\n",
    "try:\n",
    "    ErrorMessage = '添加用户'\n",
    "    testAddUser(driver)\n",
    "    print(\"添加用户成功\")\n",
    "    \n",
    "except Exception as e:\n",
    "    printError(ErrorMessage,e)"
   ]
  },
  {
   "cell_type": "code",
   "execution_count": null,
   "metadata": {},
   "outputs": [],
   "source": [
    "import addProject\n",
    "importlib.reload(addProject)\n",
    "\n",
    "from addProject import testAddProject\n",
    "try:\n",
    "    ErrorMessage = '添加项目'\n",
    "    testAddProject(driver)\n",
    "    print(\"添加项目成功\")\n",
    "    \n",
    "except Exception as e:\n",
    "    printError(ErrorMessage,e)"
   ]
  },
  {
   "cell_type": "code",
   "execution_count": null,
   "metadata": {},
   "outputs": [],
   "source": [
    "# 关闭浏览器\n",
    "time.sleep(1)\n",
    "driver.quit()\n",
    "print(\"测试结束，浏览器关闭\")"
   ]
  }
 ],
 "metadata": {
  "kernelspec": {
   "display_name": "pytest",
   "language": "python",
   "name": "python3"
  },
  "language_info": {
   "codemirror_mode": {
    "name": "ipython",
    "version": 3
   },
   "file_extension": ".py",
   "mimetype": "text/x-python",
   "name": "python",
   "nbconvert_exporter": "python",
   "pygments_lexer": "ipython3",
   "version": "3.7.12"
  }
 },
 "nbformat": 4,
 "nbformat_minor": 2
}
